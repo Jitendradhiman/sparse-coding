{
 "cells": [
  {
   "cell_type": "markdown",
   "metadata": {},
   "source": [
    "# Sparse Coding"
   ]
  },
  {
   "cell_type": "markdown",
   "metadata": {},
   "source": [
    "The sparse coding model follows:\n",
    "$$I = f(UR) + \\lambda\\Vert R\\Vert_1 $$\n",
    "where $U$ is overcomplete and the $L_1$ norm constrains the sparsity of $R$"
   ]
  },
  {
   "cell_type": "code",
   "execution_count": 1,
   "metadata": {},
   "outputs": [],
   "source": [
    "using MAT\n",
    "using LinearAlgebra\n",
    "using Statistics\n",
    "using PyPlot"
   ]
  },
  {
   "cell_type": "markdown",
   "metadata": {},
   "source": [
    "## load image patches "
   ]
  },
  {
   "cell_type": "code",
   "execution_count": 11,
   "metadata": {},
   "outputs": [
    {
     "data": {
      "text/plain": [
       "read_images (generic function with 1 method)"
      ]
     },
     "execution_count": 11,
     "metadata": {},
     "output_type": "execute_result"
    }
   ],
   "source": [
    "function read_images(filepath::String)\n",
    "    vars = matread(filepath)\n",
    "    return vars[\"IMAGES\"]\n",
    "end"
   ]
  },
  {
   "cell_type": "code",
   "execution_count": 12,
   "metadata": {},
   "outputs": [
    {
     "data": {
      "text/plain": [
       "crop_patches (generic function with 2 methods)"
      ]
     },
     "execution_count": 12,
     "metadata": {},
     "output_type": "execute_result"
    }
   ],
   "source": [
    "function crop_patches(data::Array{<:Float64}, patch_size::Int64, n::Int64, border=4)\n",
    "    num_imgs = size(data)[3] \n",
    "    X = zeros(n * num_imgs, patch_size, patch_size)\n",
    "    img_size = size(data)[1]  \n",
    "    for i = 1:num_imgs\n",
    "        for j = 1:n\n",
    "            x, y = rand(border:(img_size - border - patch_size)), rand(border:(img_size - border - patch_size))\n",
    "            X[(i-1) * n + j, :, :] = data[x:(x+patch_size-1), y:(y+patch_size-1), i]\n",
    "        end\n",
    "    end\n",
    "    return X\n",
    "end"
   ]
  },
  {
   "cell_type": "code",
   "execution_count": null,
   "metadata": {},
   "outputs": [],
   "source": [
    "data = read_images(\"../data/IMAGES.mat\");"
   ]
  },
  {
   "cell_type": "code",
   "execution_count": null,
   "metadata": {},
   "outputs": [],
   "source": [
    "X = crop_patches(data, 16, 2000);"
   ]
  },
  {
   "cell_type": "markdown",
   "metadata": {},
   "source": [
    "## ISTA"
   ]
  },
  {
   "cell_type": "code",
   "execution_count": 13,
   "metadata": {},
   "outputs": [
    {
     "data": {
      "text/plain": [
       "ReLU (generic function with 1 method)"
      ]
     },
     "execution_count": 13,
     "metadata": {},
     "output_type": "execute_result"
    }
   ],
   "source": [
    "function ReLU(x)\n",
    "    return max(x, 0);\n",
    "end"
   ]
  },
  {
   "cell_type": "code",
   "execution_count": 14,
   "metadata": {},
   "outputs": [
    {
     "data": {
      "text/plain": [
       "shrinkage (generic function with 1 method)"
      ]
     },
     "execution_count": 14,
     "metadata": {},
     "output_type": "execute_result"
    }
   ],
   "source": [
    "function shrinkage(x, λ::Float64)\n",
    "    return ReLU(x - λ) - ReLU(-1 .* x - λ);\n",
    "end"
   ]
  },
  {
   "cell_type": "code",
   "execution_count": 17,
   "metadata": {},
   "outputs": [
    {
     "data": {
      "text/plain": [
       "ista (generic function with 2 methods)"
      ]
     },
     "execution_count": 17,
     "metadata": {},
     "output_type": "execute_result"
    }
   ],
   "source": [
    "function ista(I::Array{<:Float64}, K::Int64, U::Array{<:Float64}, E::Int64, λ::Float64, η::Float64)\n",
    "    batch_size = size(I)[1];\n",
    "    R = zeros((batch_size, K));\n",
    "    for e = 1:E\n",
    "        # calculate gradient\n",
    "        Î = R * U;\n",
    "        ∇ = -2.0 * ((I - Î) * U');\n",
    "        R = R - η * ∇;\n",
    "        # shrinkage\n",
    "        R = shrinkage(R, λ);\n",
    "    end\n",
    "    return R;\n",
    "end"
   ]
  },
  {
   "cell_type": "markdown",
   "metadata": {},
   "source": [
    "## sparse coding model"
   ]
  },
  {
   "cell_type": "code",
   "execution_count": 18,
   "metadata": {},
   "outputs": [
    {
     "data": {
      "text/plain": [
       "normalize_mat! (generic function with 1 method)"
      ]
     },
     "execution_count": 18,
     "metadata": {},
     "output_type": "execute_result"
    }
   ],
   "source": [
    "function normalize_mat!(mat::Array{<:Float64})\n",
    "    mat = mat ./ sqrt.(sum(mat .^ 2, dims=2));\n",
    "    return mat;\n",
    "end"
   ]
  },
  {
   "cell_type": "code",
   "execution_count": null,
   "metadata": {},
   "outputs": [],
   "source": [
    "# params\n",
    "N = 2000;\n",
    "K = 100;\n",
    "M = 100;\n",
    "E = 10000;\n",
    "Eᵣ = 300;\n",
    "λ = 5e-3;\n",
    "η = 1e-3;\n",
    "ηᵣ = 1e-2;\n",
    "# synaptic weights\n",
    "U = rand(K, M);\n",
    "normalize_mat!(U);"
   ]
  },
  {
   "cell_type": "code",
   "execution_count": 123,
   "metadata": {},
   "outputs": [
    {
     "ename": "BoundsError",
     "evalue": "BoundsError: attempt to access 20000×16×16 Array{Float64,3} at index [11783, 2000]",
     "output_type": "error",
     "traceback": [
      "BoundsError: attempt to access 20000×16×16 Array{Float64,3} at index [11783, 2000]",
      "",
      "Stacktrace:",
      " [1] getindex(::Array{Float64,3}, ::Int64, ::Int64) at ./array.jl:732",
      " [2] top-level scope at ./In[123]:3"
     ]
    }
   ],
   "source": [
    "for e = 1:E\n",
    "    # select batch\n",
    "    I = X[rand(1:size(X)[1]), N];\n",
    "    # fit R\n",
    "    R = ista(I, K, U, Eᵣ, λ, ηᵣ);\n",
    "    # reconstruction\n",
    "    Î = R * U;\n",
    "    # TODO: Finish this\n",
    "    break\n",
    "end"
   ]
  }
 ],
 "metadata": {
  "kernelspec": {
   "display_name": "Julia 1.0.3",
   "language": "julia",
   "name": "julia-1.0"
  },
  "language_info": {
   "file_extension": ".jl",
   "mimetype": "application/julia",
   "name": "julia",
   "version": "1.0.3"
  }
 },
 "nbformat": 4,
 "nbformat_minor": 2
}
